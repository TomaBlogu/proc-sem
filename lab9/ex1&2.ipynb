{
 "cells": [
  {
   "cell_type": "code",
   "execution_count": 3,
   "metadata": {},
   "outputs": [
    {
     "ename": "ModuleNotFoundError",
     "evalue": "No module named 'matplotlib'",
     "output_type": "error",
     "traceback": [
      "\u001b[1;31m---------------------------------------------------------------------------\u001b[0m",
      "\u001b[1;31mModuleNotFoundError\u001b[0m                       Traceback (most recent call last)",
      "\u001b[1;32mc:\\Users\\Student\\Desktop\\proc-sem\\proc-sem\\lab9\\ex1.ipynb Cell 1\u001b[0m line \u001b[0;36m2\n\u001b[0;32m      <a href='vscode-notebook-cell:/c%3A/Users/Student/Desktop/proc-sem/proc-sem/lab9/ex1.ipynb#W1sZmlsZQ%3D%3D?line=0'>1</a>\u001b[0m \u001b[39mimport\u001b[39;00m \u001b[39mnumpy\u001b[39;00m \u001b[39mas\u001b[39;00m \u001b[39mnp\u001b[39;00m\n\u001b[1;32m----> <a href='vscode-notebook-cell:/c%3A/Users/Student/Desktop/proc-sem/proc-sem/lab9/ex1.ipynb#W1sZmlsZQ%3D%3D?line=1'>2</a>\u001b[0m \u001b[39mimport\u001b[39;00m \u001b[39mmatplotlib\u001b[39;00m\u001b[39m.\u001b[39;00m\u001b[39mpyplot\u001b[39;00m \u001b[39mas\u001b[39;00m \u001b[39mplt\u001b[39;00m\n",
      "\u001b[1;31mModuleNotFoundError\u001b[0m: No module named 'matplotlib'"
     ]
    }
   ],
   "source": [
    "import numpy as np\n",
    "import matplotlib.pyplot as plt"
   ]
  },
  {
   "cell_type": "code",
   "execution_count": null,
   "metadata": {},
   "outputs": [],
   "source": [
    "np.random.seed(42)\n",
    "\n",
    "N = 1000\n",
    "\n",
    "time = np.arange(1, N + 1)\n",
    "\n",
    "# Componenta de trend\n",
    "trend = 0.02 * time ** 2 + 0.5 * time + 10\n",
    "\n",
    "# Componenta sezonieră cu două frecvențe\n",
    "seas1 = 500 * np.sin(2 * np.pi * time / 50)\n",
    "seas2 = 300 * np.sin(2 * np.pi * time / 20)\n",
    "seasonal = seas1 + seas2\n",
    "\n",
    "# Componente variate folosind zgomot alb gaussian\n",
    "noise = np.random.normal(0, 2, N)\n",
    "\n",
    "time_series = trend + seasonal + noise\n",
    "\n",
    "fig, axs = plt.subplots(4)\n",
    "axs[0].plot(time, time_series)\n",
    "axs[1].plot(time, trend)\n",
    "axs[2].plot(time, seasonal)\n",
    "axs[3].plot(time, noise)\n",
    "\n",
    "plt.tight_layout()\n",
    "\n",
    "fig.set_figheight(8)\n",
    "fig.set_figwidth(10)\n",
    "\n",
    "axs[0].set_title('Seria de timp')\n",
    "axs[1].set_title('Trend')\n",
    "axs[2].set_title('Sezon')\n",
    "axs[3].set_title('Variatie mica')"
   ]
  },
  {
   "cell_type": "code",
   "execution_count": null,
   "metadata": {},
   "outputs": [],
   "source": [
    "alpha = 0.2\n",
    "\n",
    "# Calculul medierii exponențiale\n",
    "ses_result = np.zeros_like(time_series)\n",
    "ses_result[0] = time_series[0]\n",
    "\n",
    "for t in range(1, N):\n",
    "    ses_result[t] = alpha * time_series[t] + (1 - alpha) * ses_result[t - 1]\n",
    "\n",
    "# Afisare rezultate\n",
    "plt.plot(time, time_series, label='Seria originală')\n",
    "plt.plot(time, ses_result, label='Medierea exponențială')\n",
    "plt.legend()\n",
    "plt.show()"
   ]
  }
 ],
 "metadata": {
  "kernelspec": {
   "display_name": "Python 3",
   "language": "python",
   "name": "python3"
  },
  "language_info": {
   "codemirror_mode": {
    "name": "ipython",
    "version": 3
   },
   "file_extension": ".py",
   "mimetype": "text/x-python",
   "name": "python",
   "nbconvert_exporter": "python",
   "pygments_lexer": "ipython3",
   "version": "3.12.0"
  }
 },
 "nbformat": 4,
 "nbformat_minor": 2
}
