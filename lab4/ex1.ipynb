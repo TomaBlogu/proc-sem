{
 "cells": [
  {
   "cell_type": "code",
   "execution_count": 7,
   "metadata": {},
   "outputs": [],
   "source": [
    "import math\n",
    "import matplotlib.pyplot as plt\n",
    "import numpy as np\n",
    "import time"
   ]
  },
  {
   "cell_type": "code",
   "execution_count": 10,
   "metadata": {},
   "outputs": [
    {
     "name": "stdout",
     "output_type": "stream",
     "text": [
      "--- 0.006104946136474609 seconds ---\n",
      "--- 0.030235767364501953 seconds ---\n",
      "--- 0.1279129981994629 seconds ---\n",
      "--- 0.5155477523803711 seconds ---\n",
      "--- 2.0633440017700195 seconds ---\n",
      "--- 8.327488899230957 seconds ---\n",
      "--- 33.78327798843384 seconds ---\n"
     ]
    }
   ],
   "source": [
    "X = []\n",
    "\n",
    "start_time = time.time()\n",
    "\n",
    "for N in [128, 256, 512, 1024, 2048, 4096, 8192]:\n",
    "    for n1 in range(N):\n",
    "        a = []\n",
    "        for n2 in range(N):\n",
    "            a.append(math.e**(2j * math.pi * n1 * n2 / N))\n",
    "        X.append(a)\n",
    "    \n",
    "    fourier_series = np.fft.fft(a)\n",
    "\n",
    "    print(\"--- %s seconds ---\" % (time.time() - start_time))"
   ]
  }
 ],
 "metadata": {
  "kernelspec": {
   "display_name": "base",
   "language": "python",
   "name": "python3"
  },
  "language_info": {
   "codemirror_mode": {
    "name": "ipython",
    "version": 3
   },
   "file_extension": ".py",
   "mimetype": "text/x-python",
   "name": "python",
   "nbconvert_exporter": "python",
   "pygments_lexer": "ipython3",
   "version": "3.9.17"
  },
  "orig_nbformat": 4
 },
 "nbformat": 4,
 "nbformat_minor": 2
}
