{
 "cells": [
  {
   "cell_type": "code",
   "execution_count": 1,
   "metadata": {},
   "outputs": [],
   "source": [
    "import math\n",
    "import matplotlib.pyplot as plt\n",
    "import numpy as np\n",
    "import time"
   ]
  },
  {
   "cell_type": "code",
   "execution_count": 2,
   "metadata": {},
   "outputs": [],
   "source": [
    "y1 = []\n",
    "y2 = []\n",
    "Nlist = [128, 256, 512, 1024, 2048, 4096, 8192]"
   ]
  },
  {
   "cell_type": "code",
   "execution_count": 3,
   "metadata": {},
   "outputs": [
    {
     "name": "stderr",
     "output_type": "stream",
     "text": [
      "C:\\Users\\tymydu\\AppData\\Local\\Temp\\ipykernel_11576\\2426308502.py:12: ComplexWarning: Casting complex values to real discards the imaginary part\n",
      "  X[omega] += semnal[n] * math.e**(-2 * np.pi * 1j * omega * n / N)\n"
     ]
    },
    {
     "ename": "KeyboardInterrupt",
     "evalue": "",
     "output_type": "error",
     "traceback": [
      "\u001b[1;31m---------------------------------------------------------------------------\u001b[0m",
      "\u001b[1;31mKeyboardInterrupt\u001b[0m                         Traceback (most recent call last)",
      "\u001b[1;32mc:\\Users\\tymydu\\Desktop\\faculty\\Uni\\year 4\\sem 1\\Proc Semnalelor\\proc-sem\\lab4\\ex1.ipynb Cell 3\u001b[0m line \u001b[0;36m<cell line: 1>\u001b[1;34m()\u001b[0m\n\u001b[0;32m     <a href='vscode-notebook-cell:/c%3A/Users/tymydu/Desktop/faculty/Uni/year%204/sem%201/Proc%20Semnalelor/proc-sem/lab4/ex1.ipynb#W2sZmlsZQ%3D%3D?line=9'>10</a>\u001b[0m \u001b[39mfor\u001b[39;00m omega \u001b[39min\u001b[39;00m \u001b[39mrange\u001b[39m(N):\n\u001b[0;32m     <a href='vscode-notebook-cell:/c%3A/Users/tymydu/Desktop/faculty/Uni/year%204/sem%201/Proc%20Semnalelor/proc-sem/lab4/ex1.ipynb#W2sZmlsZQ%3D%3D?line=10'>11</a>\u001b[0m     \u001b[39mfor\u001b[39;00m n \u001b[39min\u001b[39;00m \u001b[39mrange\u001b[39m(N):\n\u001b[1;32m---> <a href='vscode-notebook-cell:/c%3A/Users/tymydu/Desktop/faculty/Uni/year%204/sem%201/Proc%20Semnalelor/proc-sem/lab4/ex1.ipynb#W2sZmlsZQ%3D%3D?line=11'>12</a>\u001b[0m         X[omega] \u001b[39m+\u001b[39m\u001b[39m=\u001b[39m semnal[n] \u001b[39m*\u001b[39m math\u001b[39m.\u001b[39me\u001b[39m*\u001b[39m\u001b[39m*\u001b[39m(\u001b[39m-\u001b[39m\u001b[39m2\u001b[39m \u001b[39m*\u001b[39m np\u001b[39m.\u001b[39mpi \u001b[39m*\u001b[39m \u001b[39m1\u001b[39mj \u001b[39m*\u001b[39m omega \u001b[39m*\u001b[39m n \u001b[39m/\u001b[39m N)\n\u001b[0;32m     <a href='vscode-notebook-cell:/c%3A/Users/tymydu/Desktop/faculty/Uni/year%204/sem%201/Proc%20Semnalelor/proc-sem/lab4/ex1.ipynb#W2sZmlsZQ%3D%3D?line=13'>14</a>\u001b[0m \u001b[39m# for n1 in range(N):\u001b[39;00m\n\u001b[0;32m     <a href='vscode-notebook-cell:/c%3A/Users/tymydu/Desktop/faculty/Uni/year%204/sem%201/Proc%20Semnalelor/proc-sem/lab4/ex1.ipynb#W2sZmlsZQ%3D%3D?line=14'>15</a>\u001b[0m \u001b[39m#     a = []\u001b[39;00m\n\u001b[0;32m     <a href='vscode-notebook-cell:/c%3A/Users/tymydu/Desktop/faculty/Uni/year%204/sem%201/Proc%20Semnalelor/proc-sem/lab4/ex1.ipynb#W2sZmlsZQ%3D%3D?line=15'>16</a>\u001b[0m \u001b[39m#     for n2 in range(N):\u001b[39;00m\n\u001b[0;32m     <a href='vscode-notebook-cell:/c%3A/Users/tymydu/Desktop/faculty/Uni/year%204/sem%201/Proc%20Semnalelor/proc-sem/lab4/ex1.ipynb#W2sZmlsZQ%3D%3D?line=16'>17</a>\u001b[0m \u001b[39m#         a.append(semnal[n] * (math.e**(-2 * np.pi * 1j * n1 * n2 / N)))\u001b[39;00m\n\u001b[0;32m     <a href='vscode-notebook-cell:/c%3A/Users/tymydu/Desktop/faculty/Uni/year%204/sem%201/Proc%20Semnalelor/proc-sem/lab4/ex1.ipynb#W2sZmlsZQ%3D%3D?line=17'>18</a>\u001b[0m \u001b[39m#     X.append(a)\u001b[39;00m\n\u001b[0;32m     <a href='vscode-notebook-cell:/c%3A/Users/tymydu/Desktop/faculty/Uni/year%204/sem%201/Proc%20Semnalelor/proc-sem/lab4/ex1.ipynb#W2sZmlsZQ%3D%3D?line=19'>20</a>\u001b[0m y1\u001b[39m.\u001b[39mappend((time\u001b[39m.\u001b[39mtime() \u001b[39m-\u001b[39m start_time))\n",
      "\u001b[1;31mKeyboardInterrupt\u001b[0m: "
     ]
    }
   ],
   "source": [
    "for N in Nlist:\n",
    "\n",
    "    timp = np.linspace(0, 16, N+1) \n",
    "    semnal = np.sin(2 * np.pi * 400 * timp)\n",
    "\n",
    "    start_time = time.time()\n",
    "\n",
    "    X = np.zeros(N)\n",
    "\n",
    "    for omega in range(N):\n",
    "        for n in range(N):\n",
    "            X[omega] += semnal[n] * math.e**(-2 * np.pi * 1j * omega * n / N)\n",
    "\n",
    "    # for n1 in range(N):\n",
    "    #     a = []\n",
    "    #     for n2 in range(N):\n",
    "    #         a.append(semnal[n] * (math.e**(-2 * np.pi * 1j * n1 * n2 / N)))\n",
    "    #     X.append(a)\n",
    "\n",
    "    y1.append((time.time() - start_time))\n",
    "\n",
    "    start_time = time.time()\n",
    "    \n",
    "    fourier = np.fft.fft(semnal)\n",
    "\n",
    "    y2.append((time.time() - start_time))"
   ]
  },
  {
   "cell_type": "code",
   "execution_count": null,
   "metadata": {},
   "outputs": [
    {
     "data": {
      "image/png": "[encoded data removed]",
      "text/plain": [
       "<Figure size 432x288 with 1 Axes>"
      ]
     },
     "metadata": {
      "needs_background": "light"
     },
     "output_type": "display_data"
    }
   ],
   "source": [
    "fig, ax = plt.subplots()\n",
    "ax.plot(Nlist,y1)\n",
    "ax.plot(Nlist,y2)\n",
    "ax.set_yscale(\"log\")"
   ]
  }
 ],
 "metadata": {
  "kernelspec": {
   "display_name": "base",
   "language": "python",
   "name": "python3"
  },
  "language_info": {
   "codemirror_mode": {
    "name": "ipython",
    "version": 3
   },
   "file_extension": ".py",
   "mimetype": "text/x-python",
   "name": "python",
   "nbconvert_exporter": "python",
   "pygments_lexer": "ipython3",
   "version": "3.9.12"
  },
  "orig_nbformat": 4
 },
 "nbformat": 4,
 "nbformat_minor": 2
}
