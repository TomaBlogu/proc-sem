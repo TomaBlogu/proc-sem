{
 "cells": [
  {
   "cell_type": "code",
   "execution_count": 5,
   "metadata": {},
   "outputs": [],
   "source": [
    "import math\n",
    "import matplotlib.pyplot as plt\n",
    "import numpy as np\n",
    "import time\n",
    "from timeit import default_timer as timer"
   ]
  },
  {
   "cell_type": "code",
   "execution_count": 6,
   "metadata": {},
   "outputs": [],
   "source": [
    "y1 = []\n",
    "y2 = []\n",
    "Nlist = [128, 256, 512, 1024]"
   ]
  },
  {
   "cell_type": "code",
   "execution_count": 8,
   "metadata": {},
   "outputs": [
    {
     "name": "stderr",
     "output_type": "stream",
     "text": [
      "C:\\Users\\tymydu\\AppData\\Local\\Temp\\ipykernel_6696\\692572622.py:12: ComplexWarning: Casting complex values to real discards the imaginary part\n",
      "  X[omega] += semnal[n] * math.e**(-2 * np.pi * 1j * omega * n / N)\n"
     ]
    }
   ],
   "source": [
    "for N in Nlist:\n",
    "\n",
    "    timp = np.linspace(0, 16, N+1) \n",
    "    semnal = np.sin(2 * np.pi * 400 * timp)\n",
    "\n",
    "    start_time = timer()\n",
    "\n",
    "    X = np.zeros(N)\n",
    "\n",
    "    for omega in range(N):\n",
    "        for n in range(N):\n",
    "            X[omega] += semnal[n] * math.e**(-2 * np.pi * 1j * omega * n / N)\n",
    "\n",
    "    # for n1 in range(N):\n",
    "    #     a = []\n",
    "    #     for n2 in range(N):\n",
    "    #         a.append(semnal[n] * (math.e**(-2 * np.pi * 1j * n1 * n2 / N)))\n",
    "    #     X.append(a)\n",
    "\n",
    "    y1.append((timer() - start_time))\n",
    "\n",
    "    start_time = timer()\n",
    "    \n",
    "    fourier = np.fft.fft(semnal)\n",
    "\n",
    "    y2.append((timer() - start_time))"
   ]
  },
  {
   "cell_type": "code",
   "execution_count": 9,
   "metadata": {},
   "outputs": [
    {
     "data": {
      "image/png": "[encoded data removed]",
      "text/plain": [
       "<Figure size 432x288 with 1 Axes>"
      ]
     },
     "metadata": {
      "needs_background": "light"
     },
     "output_type": "display_data"
    }
   ],
   "source": [
    "fig, ax = plt.subplots()\n",
    "ax.plot(Nlist,y1)\n",
    "ax.plot(Nlist,y2)\n",
    "ax.set_yscale(\"log\")"
   ]
  }
 ],
 "metadata": {
  "kernelspec": {
   "display_name": "base",
   "language": "python",
   "name": "python3"
  },
  "language_info": {
   "codemirror_mode": {
    "name": "ipython",
    "version": 3
   },
   "file_extension": ".py",
   "mimetype": "text/x-python",
   "name": "python",
   "nbconvert_exporter": "python",
   "pygments_lexer": "ipython3",
   "version": "3.9.12"
  },
  "orig_nbformat": 4
 },
 "nbformat": 4,
 "nbformat_minor": 2
}
