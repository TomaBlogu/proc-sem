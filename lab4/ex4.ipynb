{
 "cells": [
  {
   "cell_type": "code",
   "execution_count": null,
   "metadata": {},
   "outputs": [],
   "source": [
    "# Pentru a evita pierderea informațiilor și pentru a asigura o esantionare\n",
    "# corespunzătoare, semnalul trebuie esantionat cu o frecvență de cel puțin dublul celei mai mari frecvențe din semnal\n",
    "\n",
    "frecv_max = 200\n",
    "frecv_nyquisst = 2 * frecv_max"
   ]
  }
 ],
 "metadata": {
  "language_info": {
   "name": "python"
  }
 },
 "nbformat": 4,
 "nbformat_minor": 2
}
