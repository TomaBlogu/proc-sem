{
 "cells": [
  {
   "cell_type": "code",
   "execution_count": 3,
   "metadata": {},
   "outputs": [
    {
     "data": {
      "text/plain": [
       "10.0"
      ]
     },
     "execution_count": 3,
     "metadata": {},
     "output_type": "execute_result"
    }
   ],
   "source": [
    "p_sem_db = 90\n",
    "snr_db = 80\n",
    "\n",
    "# p_sem_db = 10 * log10 (p_sem) => p_sem = 10 ** (p_sem_db / 10)\n",
    "# snr_db = 10 * log10(p_sem / p_zgomot)\n",
    "\n",
    "p_zgomot = 10 ** (p_sem_db / 10) / (10 ** (snr_db / 10))\n",
    "p_zgomot"
   ]
  }
 ],
 "metadata": {
  "kernelspec": {
   "display_name": "base",
   "language": "python",
   "name": "python3"
  },
  "language_info": {
   "codemirror_mode": {
    "name": "ipython",
    "version": 3
   },
   "file_extension": ".py",
   "mimetype": "text/x-python",
   "name": "python",
   "nbconvert_exporter": "python",
   "pygments_lexer": "ipython3",
   "version": "3.9.12"
  }
 },
 "nbformat": 4,
 "nbformat_minor": 2
}
