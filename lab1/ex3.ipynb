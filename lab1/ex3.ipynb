{
 "cells": [
  {
   "cell_type": "code",
   "execution_count": 3,
   "metadata": {},
   "outputs": [
    {
     "name": "stdout",
     "output_type": "stream",
     "text": [
      "Intervalul de timp intre doua esantioane este 0.0005 s\n"
     ]
    }
   ],
   "source": [
    "#a\n",
    "fn = 2000\n",
    "T = 1 / fn\n",
    "print(f\"Intervalul de timp intre doua esantioane este {T} s\")"
   ]
  },
  {
   "cell_type": "code",
   "execution_count": 4,
   "metadata": {},
   "outputs": [
    {
     "name": "stdout",
     "output_type": "stream",
     "text": [
      "3600000.0 bytes intr-o ora\n"
     ]
    }
   ],
   "source": [
    "#b\n",
    "bytes_esantion = 4 / 8\n",
    "esantioane_secunda = 2000\n",
    "\n",
    "bytes_ora = bytes_esantion * esantioane_secunda * 3600\n",
    "\n",
    "print(f\"{bytes_ora} bytes intr-o ora\")"
   ]
  }
 ],
 "metadata": {
  "kernelspec": {
   "display_name": "base",
   "language": "python",
   "name": "python3"
  },
  "language_info": {
   "codemirror_mode": {
    "name": "ipython",
    "version": 3
   },
   "file_extension": ".py",
   "mimetype": "text/x-python",
   "name": "python",
   "nbconvert_exporter": "python",
   "pygments_lexer": "ipython3",
   "version": "3.9.12"
  }
 },
 "nbformat": 4,
 "nbformat_minor": 2
}
